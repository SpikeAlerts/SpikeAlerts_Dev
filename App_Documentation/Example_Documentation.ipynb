{
 "cells": [
  {
   "cell_type": "markdown",
   "id": "6599e78c-608a-486c-af97-fbd8933746bc",
   "metadata": {},
   "source": [
    "# Example Documenting db_init.py\n",
    "\n",
    "A proposed format for documenting code"
   ]
  },
  {
   "cell_type": "markdown",
   "id": "e4ed3101-5b56-4dba-853e-79e391e257ff",
   "metadata": {},
   "source": [
    "# Define Spatial Extent of Project\n",
    "\n",
    "This notebook retrieves Metropolitan Council's 2020 boundaries of the Twin Cities area and extracts the Minneapolis's boundary.\n",
    "\n",
    "Source: https://gisdata.mn.gov/dataset/us-mn-state-metc-bdry-census2020counties-ctus\n",
    "\n",
    "Metadata: https://resources.gisdata.mn.gov/pub/gdrs/data/pub/us_mn_state_metc/bdry_census2020counties_ctus/metadata/metadata.html"
   ]
  },
  {
   "cell_type": "code",
   "execution_count": 6,
   "id": "65fe2aa5-245a-434c-be30-4ebf10312ab8",
   "metadata": {},
   "outputs": [],
   "source": [
    "### Import Packages\n",
    "\n",
    "# File manipulation\n",
    "\n",
    "import os # For working with Operating System\n",
    "import shutil # For deleting folders\n",
    "import urllib # For accessing websites\n",
    "import zipfile # For extracting from Zipfiles\n",
    "from io import BytesIO # For reading bytes objects\n",
    "\n",
    "# Database \n",
    "\n",
    "import psycopg2 # For working with postgresql database\n",
    "from psycopg2 import sql\n",
    "from App.modules.db_conn import pg_connection_dict # Custom functions that get database credentials from .env\n",
    "\n",
    "# Analysis\n",
    "\n",
    "import pandas as pd # Data Management\n",
    "import geopandas as gpd # Spatial Data Manipulation"
   ]
  },
  {
   "cell_type": "code",
   "execution_count": 2,
   "id": "4f0af16a-813e-4971-8a80-dcf49dd8cca1",
   "metadata": {},
   "outputs": [],
   "source": [
    "### Definitions\n",
    "\n",
    "def extract_zip_from_url(url=None, savepath=None):\n",
    "    '''Extract a zipfile from the internet\n",
    "    then unpack it in to it's own folder \n",
    "    within the working directory.\n",
    "    Takes a single url (string).'''\n",
    "\n",
    "    if not os.path.exists(savepath):\n",
    "        os.makedirs(savepath)\n",
    "    # Unload zip into the new folder\n",
    "    response = urllib.request.urlopen(url) # Get a response\n",
    "    zip_folder = zipfile.ZipFile(BytesIO(response.read())) # Read Response\n",
    "    zip_folder.extractall(path=savepath) # Extract files\n",
    "    zip_folder.close() # Close zip object"
   ]
  },
  {
   "cell_type": "code",
   "execution_count": 3,
   "id": "95ba9541-d192-4632-8da6-19fdd6ebae76",
   "metadata": {},
   "outputs": [],
   "source": [
    "# Download Data\n",
    "\n",
    "## Twin Cities Metro Boundaries - Downloaded from MN GeospatialCommons gisdata.mn.gov  (~ 5mb)\n",
    "\n",
    "url = \"https://resources.gisdata.mn.gov/pub/gdrs/data/pub/us_mn_state_metc/bdry_census2020counties_ctus/shp_bdry_census2020counties_ctus.zip\"\n",
    "\n",
    "# Create folder name for file\n",
    "folder_name = 'shp_bdry_census2020counties_ctus' # url.split('/')[-1][:-4] <- programatic way to get foldernam\n",
    "# Define path for downloaded files\n",
    "savepath = os.path.join('..', 'Data', folder_name)\n",
    "\n",
    "extract_zip_from_url(url, savepath)"
   ]
  },
  {
   "cell_type": "code",
   "execution_count": 4,
   "id": "e0d54b1d-5b3f-4277-9348-247a16d248f1",
   "metadata": {},
   "outputs": [],
   "source": [
    "# Read Data & Select Minneapolis\n",
    "\n",
    "# Get path\n",
    "\n",
    "filename = 'Census2020CTUs.shp'\n",
    "path = os.path.join(savepath, filename)\n",
    "\n",
    "ctus_boundaries = gpd.read_file(path)\n",
    "\n",
    "# Select Minneapolis\n",
    "\n",
    "mpls_boundary = ctus_boundaries[ctus_boundaries['CTU_NAME'] == 'Minneapolis']"
   ]
  },
  {
   "cell_type": "code",
   "execution_count": 5,
   "id": "2d48e50c-b4f1-400d-aa94-6afc465295fb",
   "metadata": {},
   "outputs": [
    {
     "data": {
      "text/plain": [
       "<Axes: >"
      ]
     },
     "execution_count": 5,
     "metadata": {},
     "output_type": "execute_result"
    },
    {
     "data": {
      "image/png": "[encoded data removed]",
      "text/plain": [
       "<Figure size 640x480 with 1 Axes>"
      ]
     },
     "metadata": {},
     "output_type": "display_data"
    }
   ],
   "source": [
    "# Check it out visually! Notice it's in UTM 15N Coordinates, will have to change when uploading to database!\n",
    "\n",
    "mpls_boundary.plot()"
   ]
  },
  {
   "cell_type": "code",
   "execution_count": null,
   "id": "6da0b97f-41ad-4d42-a5d1-84c02f967be0",
   "metadata": {},
   "outputs": [],
   "source": [
    "# Upload to Database\n",
    "\n",
    "conn = psycopg2.connect(**pg_connection_dict) # pg_connection_dict from db_conn\n",
    "\n",
    "# Create Cursor for commands\n",
    "\n",
    "cur = conn.cursor()\n",
    "\n",
    "# Insert into table\n",
    "\n",
    "cols = ['CTU_ID', 'CTU_NAME', 'CTU_CODE', 'geometry'] # Field/Columns in mpls_boundary Names\n",
    "\n",
    "for i, row in mpls_boundary[cols].iterrows():\n",
    "\n",
    "    cur.execute(\n",
    "        'INSERT INTO \"Minneapolis Boundary\"(\"CTU_ID\", \"CTU_NAME\", \"CTU_CODE\", geometry)'\n",
    "        'VALUES (%(ctu_id)s, %(ctu_name)s, %(ctu_code)s, ST_Transform(ST_SetSRID(ST_GeomFromText(%(geom)s), 26915),4326)::geometry);',\n",
    "        {'ctu_id': row[0],\n",
    "         'ctu_name' : row[1],\n",
    "         'ctu_code': row[2],\n",
    "         'geom': row[3].wkt})\n",
    "\n",
    "    # Commit command\n",
    "\n",
    "    conn.commit()\n",
    "\n",
    "# Close cursor\n",
    "\n",
    "cur.close()\n",
    "\n",
    "# Close connection\n",
    "\n",
    "conn.close()"
   ]
  }
 ],
 "metadata": {
  "kernelspec": {
   "display_name": "Python 3 (ipykernel)",
   "language": "python",
   "name": "python3"
  },
  "language_info": {
   "codemirror_mode": {
    "name": "ipython",
    "version": 3
   },
   "file_extension": ".py",
   "mimetype": "text/x-python",
   "name": "python",
   "nbconvert_exporter": "python",
   "pygments_lexer": "ipython3",
   "version": "3.10.12"
  },
  "widgets": {
   "application/vnd.jupyter.widget-state+json": {
    "state": {},
    "version_major": 2,
    "version_minor": 0
   }
  }
 },
 "nbformat": 4,
 "nbformat_minor": 5
}
